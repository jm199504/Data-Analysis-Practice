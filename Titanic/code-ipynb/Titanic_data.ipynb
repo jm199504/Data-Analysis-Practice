{
 "cells": [
  {
   "cell_type": "code",
   "execution_count": 79,
   "id": "7a59f433",
   "metadata": {},
   "outputs": [],
   "source": [
    "import pandas as pd\n",
    "\n",
    "# 读取 Titanic.csv 文件\n",
    "df = pd.read_csv('Titanic.csv')\n",
    "\n",
    "# 随机抽取80%的数据\n",
    "train = df.sample(frac=0.8, random_state=123)\n",
    "\n",
    "# 将抽取的数据保存到 train.csv 文件中\n",
    "train.to_csv('train.csv', index=False)"
   ]
  },
  {
   "cell_type": "code",
   "execution_count": 80,
   "id": "c45f0a7d",
   "metadata": {},
   "outputs": [
    {
     "data": {
      "text/html": [
       "<div>\n",
       "<style scoped>\n",
       "    .dataframe tbody tr th:only-of-type {\n",
       "        vertical-align: middle;\n",
       "    }\n",
       "\n",
       "    .dataframe tbody tr th {\n",
       "        vertical-align: top;\n",
       "    }\n",
       "\n",
       "    .dataframe thead th {\n",
       "        text-align: right;\n",
       "    }\n",
       "</style>\n",
       "<table border=\"1\" class=\"dataframe\">\n",
       "  <thead>\n",
       "    <tr style=\"text-align: right;\">\n",
       "      <th></th>\n",
       "      <th>PassengerId</th>\n",
       "      <th>Survived</th>\n",
       "      <th>Pclass</th>\n",
       "      <th>Name</th>\n",
       "      <th>Sex</th>\n",
       "      <th>Age</th>\n",
       "      <th>SibSp</th>\n",
       "      <th>Parch</th>\n",
       "      <th>Ticket</th>\n",
       "      <th>Fare</th>\n",
       "      <th>Cabin</th>\n",
       "      <th>Embarked</th>\n",
       "    </tr>\n",
       "  </thead>\n",
       "  <tbody>\n",
       "    <tr>\n",
       "      <th>172</th>\n",
       "      <td>173</td>\n",
       "      <td>1</td>\n",
       "      <td>3</td>\n",
       "      <td>Johnson, Miss. Eleanor Ileen</td>\n",
       "      <td>female</td>\n",
       "      <td>1.0</td>\n",
       "      <td>1</td>\n",
       "      <td>1</td>\n",
       "      <td>347742</td>\n",
       "      <td>11.1333</td>\n",
       "      <td>NaN</td>\n",
       "      <td>S</td>\n",
       "    </tr>\n",
       "    <tr>\n",
       "      <th>524</th>\n",
       "      <td>525</td>\n",
       "      <td>0</td>\n",
       "      <td>3</td>\n",
       "      <td>Kassem, Mr. Fared</td>\n",
       "      <td>male</td>\n",
       "      <td>NaN</td>\n",
       "      <td>0</td>\n",
       "      <td>0</td>\n",
       "      <td>2700</td>\n",
       "      <td>7.2292</td>\n",
       "      <td>NaN</td>\n",
       "      <td>C</td>\n",
       "    </tr>\n",
       "    <tr>\n",
       "      <th>452</th>\n",
       "      <td>453</td>\n",
       "      <td>0</td>\n",
       "      <td>1</td>\n",
       "      <td>Foreman, Mr. Benjamin Laventall</td>\n",
       "      <td>male</td>\n",
       "      <td>30.0</td>\n",
       "      <td>0</td>\n",
       "      <td>0</td>\n",
       "      <td>113051</td>\n",
       "      <td>27.7500</td>\n",
       "      <td>C111</td>\n",
       "      <td>C</td>\n",
       "    </tr>\n",
       "    <tr>\n",
       "      <th>170</th>\n",
       "      <td>171</td>\n",
       "      <td>0</td>\n",
       "      <td>1</td>\n",
       "      <td>Van der hoef, Mr. Wyckoff</td>\n",
       "      <td>male</td>\n",
       "      <td>61.0</td>\n",
       "      <td>0</td>\n",
       "      <td>0</td>\n",
       "      <td>111240</td>\n",
       "      <td>33.5000</td>\n",
       "      <td>B19</td>\n",
       "      <td>S</td>\n",
       "    </tr>\n",
       "    <tr>\n",
       "      <th>620</th>\n",
       "      <td>621</td>\n",
       "      <td>0</td>\n",
       "      <td>3</td>\n",
       "      <td>Yasbeck, Mr. Antoni</td>\n",
       "      <td>male</td>\n",
       "      <td>27.0</td>\n",
       "      <td>1</td>\n",
       "      <td>0</td>\n",
       "      <td>2659</td>\n",
       "      <td>14.4542</td>\n",
       "      <td>NaN</td>\n",
       "      <td>C</td>\n",
       "    </tr>\n",
       "  </tbody>\n",
       "</table>\n",
       "</div>"
      ],
      "text/plain": [
       "     PassengerId  Survived  Pclass                             Name     Sex  \\\n",
       "172          173         1       3     Johnson, Miss. Eleanor Ileen  female   \n",
       "524          525         0       3                Kassem, Mr. Fared    male   \n",
       "452          453         0       1  Foreman, Mr. Benjamin Laventall    male   \n",
       "170          171         0       1        Van der hoef, Mr. Wyckoff    male   \n",
       "620          621         0       3              Yasbeck, Mr. Antoni    male   \n",
       "\n",
       "      Age  SibSp  Parch  Ticket     Fare Cabin Embarked  \n",
       "172   1.0      1      1  347742  11.1333   NaN        S  \n",
       "524   NaN      0      0    2700   7.2292   NaN        C  \n",
       "452  30.0      0      0  113051  27.7500  C111        C  \n",
       "170  61.0      0      0  111240  33.5000   B19        S  \n",
       "620  27.0      1      0    2659  14.4542   NaN        C  "
      ]
     },
     "execution_count": 80,
     "metadata": {},
     "output_type": "execute_result"
    }
   ],
   "source": [
    "# 查看前五行数据\n",
    "train.head()"
   ]
  },
  {
   "cell_type": "code",
   "execution_count": 81,
   "id": "942b8be8",
   "metadata": {},
   "outputs": [
    {
     "data": {
      "text/html": [
       "<div>\n",
       "<style scoped>\n",
       "    .dataframe tbody tr th:only-of-type {\n",
       "        vertical-align: middle;\n",
       "    }\n",
       "\n",
       "    .dataframe tbody tr th {\n",
       "        vertical-align: top;\n",
       "    }\n",
       "\n",
       "    .dataframe thead th {\n",
       "        text-align: right;\n",
       "    }\n",
       "</style>\n",
       "<table border=\"1\" class=\"dataframe\">\n",
       "  <thead>\n",
       "    <tr style=\"text-align: right;\">\n",
       "      <th></th>\n",
       "      <th>PassengerId</th>\n",
       "      <th>Survived</th>\n",
       "      <th>Pclass</th>\n",
       "      <th>Name</th>\n",
       "      <th>Sex</th>\n",
       "      <th>Age</th>\n",
       "      <th>SibSp</th>\n",
       "      <th>Parch</th>\n",
       "      <th>Ticket</th>\n",
       "      <th>Fare</th>\n",
       "      <th>Cabin</th>\n",
       "      <th>Embarked</th>\n",
       "    </tr>\n",
       "  </thead>\n",
       "  <tbody>\n",
       "    <tr>\n",
       "      <th>811</th>\n",
       "      <td>812</td>\n",
       "      <td>0</td>\n",
       "      <td>3</td>\n",
       "      <td>Lester, Mr. James</td>\n",
       "      <td>male</td>\n",
       "      <td>39.0</td>\n",
       "      <td>0</td>\n",
       "      <td>0</td>\n",
       "      <td>A/4 48871</td>\n",
       "      <td>24.1500</td>\n",
       "      <td>NaN</td>\n",
       "      <td>S</td>\n",
       "    </tr>\n",
       "    <tr>\n",
       "      <th>562</th>\n",
       "      <td>563</td>\n",
       "      <td>0</td>\n",
       "      <td>2</td>\n",
       "      <td>Norman, Mr. Robert Douglas</td>\n",
       "      <td>male</td>\n",
       "      <td>28.0</td>\n",
       "      <td>0</td>\n",
       "      <td>0</td>\n",
       "      <td>218629</td>\n",
       "      <td>13.5000</td>\n",
       "      <td>NaN</td>\n",
       "      <td>S</td>\n",
       "    </tr>\n",
       "    <tr>\n",
       "      <th>609</th>\n",
       "      <td>610</td>\n",
       "      <td>1</td>\n",
       "      <td>1</td>\n",
       "      <td>Shutes, Miss. Elizabeth W</td>\n",
       "      <td>female</td>\n",
       "      <td>40.0</td>\n",
       "      <td>0</td>\n",
       "      <td>0</td>\n",
       "      <td>PC 17582</td>\n",
       "      <td>153.4625</td>\n",
       "      <td>C125</td>\n",
       "      <td>S</td>\n",
       "    </tr>\n",
       "    <tr>\n",
       "      <th>197</th>\n",
       "      <td>198</td>\n",
       "      <td>0</td>\n",
       "      <td>3</td>\n",
       "      <td>Olsen, Mr. Karl Siegwart Andreas</td>\n",
       "      <td>male</td>\n",
       "      <td>42.0</td>\n",
       "      <td>0</td>\n",
       "      <td>1</td>\n",
       "      <td>4579</td>\n",
       "      <td>8.4042</td>\n",
       "      <td>NaN</td>\n",
       "      <td>S</td>\n",
       "    </tr>\n",
       "    <tr>\n",
       "      <th>215</th>\n",
       "      <td>216</td>\n",
       "      <td>1</td>\n",
       "      <td>1</td>\n",
       "      <td>Newell, Miss. Madeleine</td>\n",
       "      <td>female</td>\n",
       "      <td>31.0</td>\n",
       "      <td>1</td>\n",
       "      <td>0</td>\n",
       "      <td>35273</td>\n",
       "      <td>113.2750</td>\n",
       "      <td>D36</td>\n",
       "      <td>C</td>\n",
       "    </tr>\n",
       "  </tbody>\n",
       "</table>\n",
       "</div>"
      ],
      "text/plain": [
       "     PassengerId  Survived  Pclass                              Name     Sex  \\\n",
       "811          812         0       3                 Lester, Mr. James    male   \n",
       "562          563         0       2        Norman, Mr. Robert Douglas    male   \n",
       "609          610         1       1         Shutes, Miss. Elizabeth W  female   \n",
       "197          198         0       3  Olsen, Mr. Karl Siegwart Andreas    male   \n",
       "215          216         1       1           Newell, Miss. Madeleine  female   \n",
       "\n",
       "      Age  SibSp  Parch     Ticket      Fare Cabin Embarked  \n",
       "811  39.0      0      0  A/4 48871   24.1500   NaN        S  \n",
       "562  28.0      0      0     218629   13.5000   NaN        S  \n",
       "609  40.0      0      0   PC 17582  153.4625  C125        S  \n",
       "197  42.0      0      1       4579    8.4042   NaN        S  \n",
       "215  31.0      1      0      35273  113.2750   D36        C  "
      ]
     },
     "execution_count": 81,
     "metadata": {},
     "output_type": "execute_result"
    }
   ],
   "source": [
    "# 查看后五行数据\n",
    "train.tail()"
   ]
  },
  {
   "cell_type": "code",
   "execution_count": 1,
   "id": "921123ac",
   "metadata": {},
   "outputs": [
    {
     "name": "stdout",
     "output_type": "stream",
     "text": [
      "PassengerId      0\n",
      "Survived         0\n",
      "Pclass           0\n",
      "Name             0\n",
      "Sex              0\n",
      "Age            139\n",
      "SibSp            0\n",
      "Parch            0\n",
      "Ticket           0\n",
      "Fare             0\n",
      "Cabin          555\n",
      "Embarked         1\n",
      "dtype: int64\n"
     ]
    }
   ],
   "source": [
    "# 读取 Titanic.csv 文件\n",
    "df = pd.read_csv('train.csv')\n",
    "\n",
    "# 检测缺失值\n",
    "missing_values = df.isnull().sum()\n",
    "\n",
    "# 输出各字段的缺失值数量，其中Age、Cabin、Embarked存在缺失值\n",
    "missing_values"
   ]
  },
  {
   "cell_type": "code",
   "execution_count": 2,
   "id": "71645fbd",
   "metadata": {},
   "outputs": [],
   "source": [
    "# 对上述存在缺失值的字段进行填补\n",
    "df['Age'].fillna(df['Age'].mean(), inplace=True)\n",
    "df['Cabin'].fillna('Unknown', inplace=True)\n",
    "df['Embarked'].fillna(df['Embarked'].mode()[0], inplace=True)"
   ]
  },
  {
   "cell_type": "code",
   "execution_count": 3,
   "id": "0f15abff",
   "metadata": {},
   "outputs": [
    {
     "name": "stdout",
     "output_type": "stream",
     "text": [
      "重复行数: 0\n"
     ]
    }
   ],
   "source": [
    "# 检测重复值\n",
    "duplicate_rows = df.duplicated()\n",
    "duplicate_rows_count = duplicate_rows.sum()\n",
    "print(\"重复行数:\", duplicate_rows_count)"
   ]
  },
  {
   "cell_type": "code",
   "execution_count": 4,
   "id": "e444be34",
   "metadata": {},
   "outputs": [],
   "source": [
    "# 降重(因为重复行数为0，所以无需降重)\n",
    "# df.drop_duplicates(inplace=True)"
   ]
  },
  {
   "cell_type": "code",
   "execution_count": 5,
   "id": "63931297",
   "metadata": {},
   "outputs": [
    {
     "name": "stdout",
     "output_type": "stream",
     "text": [
      "       PassengerId    Survived      Pclass         Age       SibSp  \\\n",
      "count   713.000000  713.000000  713.000000  713.000000  713.000000   \n",
      "mean    451.237027    0.366059    2.312763   29.422613    0.507714   \n",
      "std     257.904310    0.482064    0.834015   12.728972    1.086309   \n",
      "min       1.000000    0.000000    1.000000    0.420000    0.000000   \n",
      "25%     228.000000    0.000000    2.000000   22.000000    0.000000   \n",
      "50%     455.000000    0.000000    3.000000   29.422613    0.000000   \n",
      "75%     677.000000    1.000000    3.000000   35.000000    1.000000   \n",
      "max     891.000000    1.000000    3.000000   74.000000    8.000000   \n",
      "\n",
      "            Parch        Fare  \n",
      "count  713.000000  713.000000  \n",
      "mean     0.360449   31.026296  \n",
      "std      0.781065   47.260244  \n",
      "min      0.000000    0.000000  \n",
      "25%      0.000000    7.895800  \n",
      "50%      0.000000   13.862500  \n",
      "75%      0.000000   30.500000  \n",
      "max      6.000000  512.329200  \n"
     ]
    }
   ],
   "source": [
    "# 基本统计分析(包含数量、均值、方差、最小值、最大值等)\n",
    "statistics = df.describe()\n",
    "print(statistics)"
   ]
  },
  {
   "cell_type": "code",
   "execution_count": 6,
   "id": "ba7a8e5c",
   "metadata": {},
   "outputs": [],
   "source": [
    "# 【分析一】海难发生前，一等舱有 XX 人，二等舱 XX 人，三等舱 XX 人，分别占总人数的 XX%，XX%，XX%"
   ]
  },
  {
   "cell_type": "code",
   "execution_count": 11,
   "id": "bdcc6a75",
   "metadata": {},
   "outputs": [
    {
     "name": "stdout",
     "output_type": "stream",
     "text": [
      "一等舱人数：171\n",
      "二等舱人数：148\n",
      "三等舱人数：394\n",
      "一等舱乘客占比：23.98%\n",
      "二等舱乘客占比：20.76%\n",
      "三等舱乘客占比：55.26%\n"
     ]
    }
   ],
   "source": [
    "# 读取 train.csv 文件\n",
    "df = pd.read_csv('train.csv')\n",
    "\n",
    "# 统计海难发生前不同舱位的乘客人数\n",
    "first_class_count = df[df['Pclass'] == 1]['PassengerId'].count()\n",
    "second_class_count = df[df['Pclass'] == 2]['PassengerId'].count()\n",
    "third_class_count = df[df['Pclass'] == 3]['PassengerId'].count()\n",
    "\n",
    "# 计算不同舱位的乘客人数占总人数的比例，并保留2位小数\n",
    "total_passengers = df['PassengerId'].count()\n",
    "first_class_percent = round((first_class_count / total_passengers) * 100, 2)\n",
    "second_class_percent = round((second_class_count / total_passengers) * 100, 2)\n",
    "third_class_percent = round((third_class_count / total_passengers) * 100, 2)\n",
    "\n",
    "# 打印结果\n",
    "print(f\"一等舱人数：{first_class_count}\")\n",
    "print(f\"二等舱人数：{second_class_count}\")\n",
    "print(f\"三等舱人数：{third_class_count}\")\n",
    "print(f\"一等舱乘客占比：{first_class_percent}%\")\n",
    "print(f\"二等舱乘客占比：{second_class_percent}%\")\n",
    "print(f\"三等舱乘客占比：{third_class_percent}%\")"
   ]
  },
  {
   "cell_type": "code",
   "execution_count": null,
   "id": "e3bb40d5",
   "metadata": {},
   "outputs": [],
   "source": [
    "# 【分析一的结论】\n",
    "# 一等舱人数：171\n",
    "# 二等舱人数：148\n",
    "# 三等舱人数：394\n",
    "# 一等舱乘客占比：23.98%\n",
    "# 二等舱乘客占比：20.76%\n",
    "# 三等舱乘客占比：55.26%"
   ]
  },
  {
   "cell_type": "code",
   "execution_count": 12,
   "id": "b6c93099",
   "metadata": {},
   "outputs": [],
   "source": [
    "# 【分析二】海难发生后，一等舱、二等舱、三等舱的乘客人数剩余 XX、XX、XX 人，分别占总人数的 XX%，XX%，XX%"
   ]
  },
  {
   "cell_type": "code",
   "execution_count": 20,
   "id": "ebb1e7db",
   "metadata": {},
   "outputs": [
    {
     "name": "stdout",
     "output_type": "stream",
     "text": [
      "海难发生后，一等舱乘客剩余人数： 106\n",
      "海难发生后，二等舱乘客剩余人数： 65\n",
      "海难发生后，三等舱乘客剩余人数： 90\n",
      "海难发生后，一等舱乘客占比： 40.61%\n",
      "海难发生后，二等舱乘客占比： 24.9%\n",
      "海难发生后，三等舱乘客占比： 34.48%\n"
     ]
    }
   ],
   "source": [
    "# 读取 Titanic.csv 文件\n",
    "df = pd.read_csv('train.csv')\n",
    "\n",
    "# 统计海难发生后不同舱位的乘客人数\n",
    "first_class_survived = df[(df['Pclass'] == 1) & (df['Survived'] == 1)]['PassengerId'].count()\n",
    "second_class_survived = df[(df['Pclass'] == 2) & (df['Survived'] == 1)]['PassengerId'].count()\n",
    "third_class_survived = df[(df['Pclass'] == 3) & (df['Survived'] == 1)]['PassengerId'].count()\n",
    "\n",
    "# 计算不同舱位的乘客人数占总人数的比例，并保留2位小数\n",
    "total_passengers_survived = df[df['Survived'] == 1]['PassengerId'].count()\n",
    "first_class_percent_survived = round((first_class_survived / total_passengers_survived) * 100, 2)\n",
    "second_class_percent_survived = round((second_class_survived / total_passengers_survived) * 100, 2)\n",
    "third_class_percent_survived = round((third_class_survived / total_passengers_survived) * 100, 2)\n",
    "\n",
    "# 打印结果\n",
    "print(f\"海难发生后，一等舱乘客剩余人数： {first_class_survived}\")\n",
    "print(f\"海难发生后，二等舱乘客剩余人数： {second_class_survived}\")\n",
    "print(f\"海难发生后，三等舱乘客剩余人数： {third_class_survived}\")\n",
    "print(f\"海难发生后，一等舱乘客占比： {first_class_percent_survived}%\")\n",
    "print(f\"海难发生后，二等舱乘客占比： {second_class_percent_survived}%\")\n",
    "print(f\"海难发生后，三等舱乘客占比： {third_class_percent_survived}%\")"
   ]
  },
  {
   "cell_type": "code",
   "execution_count": null,
   "id": "4d74d7f3",
   "metadata": {},
   "outputs": [],
   "source": [
    "# 【分析二的结论】\n",
    "# 海难发生后，一等舱乘客剩余人数： 106\n",
    "# 海难发生后，二等舱乘客剩余人数： 65\n",
    "# 海难发生后，三等舱乘客剩余人数： 90\n",
    "# 海难发生后，一等舱乘客占比： 40.61%\n",
    "# 海难发生后，二等舱乘客占比： 24.9%\n",
    "# 海难发生后，三等舱乘客占比： 34.48%"
   ]
  },
  {
   "cell_type": "code",
   "execution_count": 14,
   "id": "187611aa",
   "metadata": {},
   "outputs": [],
   "source": [
    "# 【分析三】一等舱生还率为 XX%，二等舱为 XX%，三等舱为 XX%。"
   ]
  },
  {
   "cell_type": "code",
   "execution_count": 22,
   "id": "2eb95379",
   "metadata": {},
   "outputs": [
    {
     "name": "stdout",
     "output_type": "stream",
     "text": [
      "一等舱生还率为 61.99%\n",
      "二等舱生还率为 43.92%\n",
      "三等舱生还率为 22.84%\n"
     ]
    }
   ],
   "source": [
    "# 读取 train.csv 文件\n",
    "df = pd.read_csv('train.csv')\n",
    "\n",
    "# 统计不同舱位的乘客人数\n",
    "first_class_total = df[df['Pclass'] == 1]['PassengerId'].count()\n",
    "second_class_total = df[df['Pclass'] == 2]['PassengerId'].count()\n",
    "third_class_total = df[df['Pclass'] == 3]['PassengerId'].count()\n",
    "\n",
    "# 统计不同舱位生还的乘客人数\n",
    "first_class_survived = df[(df['Pclass'] == 1) & (df['Survived'] == 1)]['PassengerId'].count()\n",
    "second_class_survived = df[(df['Pclass'] == 2) & (df['Survived'] == 1)]['PassengerId'].count()\n",
    "third_class_survived = df[(df['Pclass'] == 3) & (df['Survived'] == 1)]['PassengerId'].count()\n",
    "\n",
    "# 计算不同舱位的生还率，并保留两位小数\n",
    "first_class_percent_survived = round((first_class_survived / first_class_total) * 100, 2)\n",
    "second_class_percent_survived = round((second_class_survived / second_class_total) * 100, 2)\n",
    "third_class_percent_survived = round((third_class_survived / third_class_total) * 100, 2)\n",
    "\n",
    "# 打印结果\n",
    "print(f\"一等舱生还率为 {first_class_percent_survived}%\")\n",
    "print(f\"二等舱生还率为 {second_class_percent_survived}%\")\n",
    "print(f\"三等舱生还率为 {third_class_percent_survived}%\")"
   ]
  },
  {
   "cell_type": "code",
   "execution_count": 67,
   "id": "16e8da7f",
   "metadata": {},
   "outputs": [],
   "source": [
    "# 【分析三的结论】\n",
    "# 一等舱生还率为 61.99%\n",
    "# 二等舱生还率为 43.92%\n",
    "# 三等舱生还率为 22.84%\n",
    "# 可见客舱等级越高，生还率越高。"
   ]
  },
  {
   "cell_type": "code",
   "execution_count": null,
   "id": "43406f33",
   "metadata": {},
   "outputs": [],
   "source": [
    "# 【分析三的可视化】使用柱状图表示不同舱位的生还率"
   ]
  },
  {
   "cell_type": "code",
   "execution_count": 68,
   "id": "5696d62a",
   "metadata": {},
   "outputs": [
    {
     "data": {
      "image/png": "[encoded data removed]",
      "text/plain": [
       "<Figure size 640x480 with 1 Axes>"
      ]
     },
     "metadata": {},
     "output_type": "display_data"
    }
   ],
   "source": [
    "import matplotlib.pyplot as plt\n",
    "\n",
    "# 读取 train.csv 文件\n",
    "df = pd.read_csv('train.csv')\n",
    "\n",
    "# 统计不同舱位的乘客人数\n",
    "class_counts = df['Pclass'].value_counts(sort=False)\n",
    "\n",
    "# 统计不同舱位生还的乘客人数\n",
    "survived_counts = df[df['Survived'] == 1]['Pclass'].value_counts(sort=False)\n",
    "\n",
    "# 计算不同舱位的生还率，并保留两位小数\n",
    "survival_rates = round((survived_counts / class_counts) * 100, 2)\n",
    "\n",
    "# 创建柱状图\n",
    "plt.bar(survival_rates.index, survival_rates.values)\n",
    "\n",
    "# 设置图表标题和标签\n",
    "plt.title('Survival Rates by Passenger Class')\n",
    "plt.xlabel('Passenger Class')\n",
    "plt.ylabel('Survival Rate (%)')\n",
    "\n",
    "# 显示图表\n",
    "plt.show()"
   ]
  },
  {
   "cell_type": "code",
   "execution_count": 19,
   "id": "0dadcdab",
   "metadata": {},
   "outputs": [],
   "source": [
    "# 【分析三的可视化】使用饼图表示不同舱位的生还率"
   ]
  },
  {
   "cell_type": "code",
   "execution_count": 69,
   "id": "d8180f73",
   "metadata": {},
   "outputs": [
    {
     "data": {
      "image/png": "[encoded data removed]",
      "text/plain": [
       "<Figure size 640x480 with 1 Axes>"
      ]
     },
     "metadata": {},
     "output_type": "display_data"
    }
   ],
   "source": [
    "# 读取 train.csv 文件\n",
    "df = pd.read_csv('train.csv')\n",
    "\n",
    "# 统计不同舱位的乘客人数\n",
    "class_counts = df['Pclass'].value_counts(sort=False)\n",
    "\n",
    "# 统计不同舱位生还的乘客人数\n",
    "survived_counts = df[df['Survived'] == 1]['Pclass'].value_counts(sort=False)\n",
    "\n",
    "# 计算不同舱位的生还率，并保留两位小数\n",
    "survival_rates = round((survived_counts / class_counts) * 100, 2)\n",
    "\n",
    "# 创建饼图\n",
    "plt.pie(survival_rates, labels=survival_rates.index, autopct='%1.1f%%')\n",
    "\n",
    "# 设置图表标题\n",
    "plt.title('Survival Rates by Passenger Class')\n",
    "\n",
    "# 显示图表\n",
    "plt.show()"
   ]
  },
  {
   "cell_type": "code",
   "execution_count": 70,
   "id": "96f45c47",
   "metadata": {},
   "outputs": [],
   "source": [
    "# 【分析四】乘客的性别与生还率关系"
   ]
  },
  {
   "cell_type": "code",
   "execution_count": 55,
   "id": "8961660b",
   "metadata": {},
   "outputs": [
    {
     "data": {
      "text/plain": [
       "Sex\n",
       "female    72.13\n",
       "male      18.12\n",
       "Name: count, dtype: float64"
      ]
     },
     "execution_count": 55,
     "metadata": {},
     "output_type": "execute_result"
    }
   ],
   "source": [
    "# 读取 train.csv 文件\n",
    "df = pd.read_csv('train.csv')\n",
    "\n",
    "# 计算不同性别的生还人数\n",
    "survived_counts = df[df['Survived'] == 1]['Sex'].value_counts()\n",
    "total_counts = df['Sex'].value_counts()\n",
    "\n",
    "# 计算不同性别的生还率\n",
    "survival_rates = round((survived_counts / total_counts) * 100, 2)\n",
    "\n",
    "survival_rates"
   ]
  },
  {
   "cell_type": "code",
   "execution_count": null,
   "id": "3a365e08",
   "metadata": {},
   "outputs": [],
   "source": [
    "# 【分析四的结论】：男性和女性乘客生还率如下：男性的生还率为18.12%，女性的生还率为72.13%，女性乘客可能更容易生还。"
   ]
  },
  {
   "cell_type": "code",
   "execution_count": null,
   "id": "9f8d0d37",
   "metadata": {},
   "outputs": [],
   "source": [
    "# 【分析四的可视化】使用柱状图表示乘客的性别与生还率关系"
   ]
  },
  {
   "cell_type": "code",
   "execution_count": 56,
   "id": "45a9aa8d",
   "metadata": {},
   "outputs": [
    {
     "data": {
      "image/png": "[encoded data removed]",
      "text/plain": [
       "<Figure size 640x480 with 1 Axes>"
      ]
     },
     "metadata": {},
     "output_type": "display_data"
    }
   ],
   "source": [
    "# 创建柱状图\n",
    "plt.bar(survival_rates.index, survival_rates.values)\n",
    "\n",
    "# 设置图表标题和标签\n",
    "plt.title('Survival Rates by Gender')\n",
    "plt.xlabel('Gender')\n",
    "plt.ylabel('Survival Rate (%)')\n",
    "\n",
    "# 显示图表\n",
    "plt.show()"
   ]
  },
  {
   "cell_type": "code",
   "execution_count": 34,
   "id": "f1037500",
   "metadata": {},
   "outputs": [],
   "source": [
    "# 【分析五】年龄与生还率关系"
   ]
  },
  {
   "cell_type": "code",
   "execution_count": 60,
   "id": "bff03377",
   "metadata": {},
   "outputs": [
    {
     "data": {
      "text/plain": [
       "AgeGroup\n",
       "Adult       36.27\n",
       "Children    55.56\n",
       "Teenager    47.22\n",
       "Elderly      0.00\n",
       "Name: count, dtype: float64"
      ]
     },
     "execution_count": 60,
     "metadata": {},
     "output_type": "execute_result"
    }
   ],
   "source": [
    "# 读取 train.csv 文件\n",
    "df = pd.read_csv('train.csv')\n",
    "\n",
    "# 删除年龄缺失值的行\n",
    "df.dropna(subset=['Age'], inplace=True)\n",
    "\n",
    "# 分割年龄为年龄段\n",
    "bins = [0, 12, 18, 65, 100]\n",
    "labels = ['Children', 'Teenager', 'Adult', 'Elderly']\n",
    "df['AgeGroup'] = pd.cut(df['Age'], bins=bins, labels=labels, right=False)\n",
    "\n",
    "# 计算不同年龄段的生还人数\n",
    "survived_counts = df[df['Survived'] == 1]['AgeGroup'].value_counts()\n",
    "total_counts = df['AgeGroup'].value_counts()\n",
    "\n",
    "# 计算不同年龄段的生还率\n",
    "survival_rates = round((survived_counts / total_counts) * 100, 2)\n",
    "\n",
    "survival_rates"
   ]
  },
  {
   "cell_type": "code",
   "execution_count": 61,
   "id": "c52bb050",
   "metadata": {},
   "outputs": [],
   "source": [
    "# 【分析五的结论】：根据年龄段进行分类，不同年龄段的乘客生还率如下：\n",
    "# 儿童（0-12岁）的生还率为55.56%\n",
    "# 少年（12-18岁）的生还率为47.22%\n",
    "# 成人（18-65岁）的生还率为36.27%\n",
    "# 老年（65-100岁）的生还率为0.00%"
   ]
  },
  {
   "cell_type": "code",
   "execution_count": null,
   "id": "3d26e213",
   "metadata": {},
   "outputs": [],
   "source": [
    "# 【分析五的可视化】使用柱状图表示年龄与生还率关系"
   ]
  },
  {
   "cell_type": "code",
   "execution_count": 58,
   "id": "2490d432",
   "metadata": {},
   "outputs": [
    {
     "data": {
      "image/png": "[encoded data removed]",
      "text/plain": [
       "<Figure size 640x480 with 1 Axes>"
      ]
     },
     "metadata": {},
     "output_type": "display_data"
    }
   ],
   "source": [
    "# 创建柱状图\n",
    "plt.bar(survival_rates.index, survival_rates.values)\n",
    "\n",
    "# 设置图表标题和标签\n",
    "plt.title('Survival Rates by Age Group')\n",
    "plt.xlabel('Age Group')\n",
    "plt.ylabel('Survival Rate (%)')\n",
    "\n",
    "# 显示图表\n",
    "plt.show()"
   ]
  },
  {
   "cell_type": "code",
   "execution_count": 40,
   "id": "fc2509a0",
   "metadata": {},
   "outputs": [],
   "source": [
    "# 【分析六】不同登船港口的乘客生存情况"
   ]
  },
  {
   "cell_type": "code",
   "execution_count": 71,
   "id": "b053af69",
   "metadata": {},
   "outputs": [
    {
     "data": {
      "text/plain": [
       "Embarked\n",
       "C    0.561538\n",
       "Q    0.333333\n",
       "S    0.321293\n",
       "dtype: float64"
      ]
     },
     "execution_count": 71,
     "metadata": {},
     "output_type": "execute_result"
    }
   ],
   "source": [
    "# 读取 train.csv 文件\n",
    "df = pd.read_csv('train.csv')\n",
    "\n",
    "# 对 Embarked 的缺失值进行处理\n",
    "df['Embarked'].fillna(df['Embarked'].mode()[0], inplace=True)\n",
    "\n",
    "# 统计不同港口上船的乘客人数以及生还人数\n",
    "embarked_count = df.groupby('Embarked')['PassengerId'].count()\n",
    "survived_count = df.groupby('Embarked')['Survived'].sum()\n",
    "\n",
    "# 计算不同港口上船的乘客生还率\n",
    "survival_rate = survived_count / embarked_count\n",
    "\n",
    "survival_rate"
   ]
  },
  {
   "cell_type": "code",
   "execution_count": 72,
   "id": "49f60db1",
   "metadata": {},
   "outputs": [],
   "source": [
    "# 【分析六的可视化】使用柱状图表示不同登船港口的乘客生存情况"
   ]
  },
  {
   "cell_type": "code",
   "execution_count": 73,
   "id": "526f27b3",
   "metadata": {},
   "outputs": [
    {
     "data": {
      "image/png": "[encoded data removed]",
      "text/plain": [
       "<Figure size 640x480 with 1 Axes>"
      ]
     },
     "metadata": {},
     "output_type": "display_data"
    }
   ],
   "source": [
    "# 可视化结果\n",
    "plt.bar(['C', 'Q', 'S'], survival_rate, color=['#2a9df4', '#f44336', '#ffc107'])\n",
    "plt.xlabel('Embarked')\n",
    "plt.ylabel('Survival rate')\n",
    "plt.title('Survival Rate of Different Embarked Ports')\n",
    "plt.ylim(0.0, 1.0)\n",
    "plt.show()"
   ]
  },
  {
   "cell_type": "code",
   "execution_count": 75,
   "id": "4a7efbda",
   "metadata": {},
   "outputs": [],
   "source": [
    "# 【分析七】登船港口为C的男性和女性的生存情况"
   ]
  },
  {
   "cell_type": "code",
   "execution_count": 76,
   "id": "0ee1f64e",
   "metadata": {},
   "outputs": [
    {
     "name": "stdout",
     "output_type": "stream",
     "text": [
      "登船港口为 C 的男性生存人数: 22\n",
      "登船港口为 C 的女性生存人数: 51\n"
     ]
    }
   ],
   "source": [
    "# 读取 train.csv 文件\n",
    "df = pd.read_csv('train.csv')\n",
    "\n",
    "# 筛选登船港口为 C 的数据\n",
    "embarked_c_df = df[df['Embarked'] == 'C']\n",
    "\n",
    "# 统计登船港口为 C 的男性和女性生存情况\n",
    "male_survived = embarked_c_df[(embarked_c_df['Sex'] == 'male') & (embarked_c_df['Survived'] == 1)]\n",
    "female_survived = embarked_c_df[(embarked_c_df['Sex'] == 'female') & (embarked_c_df['Survived'] == 1)]\n",
    "\n",
    "# 输出结果\n",
    "print(\"登船港口为 C 的男性生存人数:\", len(male_survived))\n",
    "print(\"登船港口为 C 的女性生存人数:\", len(female_survived))"
   ]
  },
  {
   "cell_type": "code",
   "execution_count": 77,
   "id": "71121251",
   "metadata": {},
   "outputs": [],
   "source": [
    "# 【分析七的可视化】使用柱状图表示登船港口为C的男性和女性的生存情况"
   ]
  },
  {
   "cell_type": "code",
   "execution_count": 78,
   "id": "e35d7bd8",
   "metadata": {},
   "outputs": [
    {
     "data": {
      "image/png": "[encoded data removed]",
      "text/plain": [
       "<Figure size 640x480 with 1 Axes>"
      ]
     },
     "metadata": {},
     "output_type": "display_data"
    }
   ],
   "source": [
    "# 读取 train.csv 文件\n",
    "df = pd.read_csv('train.csv')\n",
    "\n",
    "# 筛选登船港口为 C 的数据\n",
    "embarked_c_df = df[df['Embarked'] == 'C']\n",
    "\n",
    "# 统计登船港口为 C 的男性和女性生存情况\n",
    "male_survived = embarked_c_df[(embarked_c_df['Sex'] == 'male') & (embarked_c_df['Survived'] == 1)]\n",
    "female_survived = embarked_c_df[(embarked_c_df['Sex'] == 'female') & (embarked_c_df['Survived'] == 1)]\n",
    "\n",
    "# 可视化结果\n",
    "labels = ['Male', 'Female']\n",
    "survived_counts = [len(male_survived), len(female_survived)]\n",
    "\n",
    "plt.bar(labels, survived_counts, color=['#2196f3', '#f44336'])\n",
    "plt.xlabel('Gender')\n",
    "plt.ylabel('Survived Count')\n",
    "plt.title('Survival Count of Male and Female Passengers Embarked at C')\n",
    "plt.show()"
   ]
  },
  {
   "cell_type": "code",
   "execution_count": null,
   "id": "d83ad78f",
   "metadata": {},
   "outputs": [],
   "source": []
  }
 ],
 "metadata": {
  "kernelspec": {
   "display_name": "Python 3 (ipykernel)",
   "language": "python",
   "name": "python3"
  },
  "language_info": {
   "codemirror_mode": {
    "name": "ipython",
    "version": 3
   },
   "file_extension": ".py",
   "mimetype": "text/x-python",
   "name": "python",
   "nbconvert_exporter": "python",
   "pygments_lexer": "ipython3",
   "version": "3.11.0"
  }
 },
 "nbformat": 4,
 "nbformat_minor": 5
}
